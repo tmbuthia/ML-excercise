{
 "cells": [
  {
   "cell_type": "code",
   "execution_count": null,
   "id": "b51ca1eb",
   "metadata": {},
   "outputs": [],
   "source": [
    "IMT 574\n",
    "\n",
    "2.10 Assignment 2: Linear Regression and Gradient Descent\n",
    "    \n",
    "TIMOTHY MBUTHIA"
   ]
  },
  {
   "cell_type": "code",
   "execution_count": 39,
   "id": "624efff1",
   "metadata": {},
   "outputs": [],
   "source": [
    "# Importing necessary libraries\n",
    "import pandas as pd\n",
    "import numpy as np\n",
    "import xlrd\n",
    "from sklearn.linear_model import LinearRegression"
   ]
  },
  {
   "cell_type": "markdown",
   "id": "f9de8947",
   "metadata": {},
   "source": [
    "PROBLEM 1 [6 POINTS]\n",
    "Download Airline Costs dataset.The dataset has the following attributes:\n",
    "\n",
    "Airline, Length of flight (miles), Speed of plane (miles per hour),Daily flight time per plane (hours),Population served (1000s), Total operating cost (cents per revenue ton-mile),Revenue tons per aircraft mile,Ton-mile load factor (proportion),Available capacity (tons per mile), Total assets ($100,000s), Investments and special funds ($100,000s),Adjusted assets ($100,000s)"
   ]
  },
  {
   "cell_type": "markdown",
   "id": "e999abfa",
   "metadata": {},
   "source": [
    "Part A [3 Points]\n",
    "\n",
    "Use a linear regression model to predict the number of customers each airline serves from its length of the flight and daily flight time per plane."
   ]
  },
  {
   "cell_type": "code",
   "execution_count": 23,
   "id": "5f950bf0",
   "metadata": {},
   "outputs": [
    {
     "data": {
      "text/html": [
       "<div>\n",
       "<style scoped>\n",
       "    .dataframe tbody tr th:only-of-type {\n",
       "        vertical-align: middle;\n",
       "    }\n",
       "\n",
       "    .dataframe tbody tr th {\n",
       "        vertical-align: top;\n",
       "    }\n",
       "\n",
       "    .dataframe thead th {\n",
       "        text-align: right;\n",
       "    }\n",
       "</style>\n",
       "<table border=\"1\" class=\"dataframe\">\n",
       "  <thead>\n",
       "    <tr style=\"text-align: right;\">\n",
       "      <th></th>\n",
       "      <th>Airline</th>\n",
       "      <th>Length of flight (miles)</th>\n",
       "      <th>Speed of plane (miles per hour)</th>\n",
       "      <th>Daily flight time per plane (hours)</th>\n",
       "      <th>Population served (1000s)</th>\n",
       "      <th>Total operating cost (cents per revenue ton-mile)</th>\n",
       "      <th>Revenue tons per aircraft mile</th>\n",
       "      <th>Ton-mile load factor (proportion)</th>\n",
       "      <th>Available capacity (tons per mile)</th>\n",
       "      <th>Total assets ($100,000s)</th>\n",
       "      <th>Investments and special funds ($100,000s)</th>\n",
       "      <th>Adjusted assets ($100,000s)</th>\n",
       "    </tr>\n",
       "  </thead>\n",
       "  <tbody>\n",
       "    <tr>\n",
       "      <th>0</th>\n",
       "      <td>All American</td>\n",
       "      <td>57</td>\n",
       "      <td>133</td>\n",
       "      <td>6.10</td>\n",
       "      <td>20200</td>\n",
       "      <td>116.3</td>\n",
       "      <td>0.96</td>\n",
       "      <td>0.400</td>\n",
       "      <td>2.400</td>\n",
       "      <td>21.13</td>\n",
       "      <td>3.21</td>\n",
       "      <td>17.92</td>\n",
       "    </tr>\n",
       "    <tr>\n",
       "      <th>1</th>\n",
       "      <td>American</td>\n",
       "      <td>270</td>\n",
       "      <td>216</td>\n",
       "      <td>6.93</td>\n",
       "      <td>56928</td>\n",
       "      <td>43.0</td>\n",
       "      <td>3.98</td>\n",
       "      <td>0.689</td>\n",
       "      <td>5.776</td>\n",
       "      <td>1436.53</td>\n",
       "      <td>165.22</td>\n",
       "      <td>1271.31</td>\n",
       "    </tr>\n",
       "    <tr>\n",
       "      <th>2</th>\n",
       "      <td>Bonanza</td>\n",
       "      <td>100</td>\n",
       "      <td>140</td>\n",
       "      <td>4.45</td>\n",
       "      <td>183</td>\n",
       "      <td>141.5</td>\n",
       "      <td>0.79</td>\n",
       "      <td>0.358</td>\n",
       "      <td>2.207</td>\n",
       "      <td>6.65</td>\n",
       "      <td>0.01</td>\n",
       "      <td>6.64</td>\n",
       "    </tr>\n",
       "    <tr>\n",
       "      <th>3</th>\n",
       "      <td>Braniff</td>\n",
       "      <td>176</td>\n",
       "      <td>182</td>\n",
       "      <td>6.60</td>\n",
       "      <td>11869</td>\n",
       "      <td>50.6</td>\n",
       "      <td>2.57</td>\n",
       "      <td>0.557</td>\n",
       "      <td>4.614</td>\n",
       "      <td>160.30</td>\n",
       "      <td>5.81</td>\n",
       "      <td>154.49</td>\n",
       "    </tr>\n",
       "    <tr>\n",
       "      <th>4</th>\n",
       "      <td>Capital</td>\n",
       "      <td>142</td>\n",
       "      <td>167</td>\n",
       "      <td>7.47</td>\n",
       "      <td>41097</td>\n",
       "      <td>51.0</td>\n",
       "      <td>2.68</td>\n",
       "      <td>0.510</td>\n",
       "      <td>5.255</td>\n",
       "      <td>195.02</td>\n",
       "      <td>6.06</td>\n",
       "      <td>188.96</td>\n",
       "    </tr>\n",
       "  </tbody>\n",
       "</table>\n",
       "</div>"
      ],
      "text/plain": [
       "        Airline  Length of flight (miles)  Speed of plane (miles per hour)  \\\n",
       "0  All American                        57                              133   \n",
       "1      American                       270                              216   \n",
       "2       Bonanza                       100                              140   \n",
       "3       Braniff                       176                              182   \n",
       "4       Capital                       142                              167   \n",
       "\n",
       "   Daily flight time per plane (hours)  Population served (1000s)  \\\n",
       "0                                 6.10                      20200   \n",
       "1                                 6.93                      56928   \n",
       "2                                 4.45                        183   \n",
       "3                                 6.60                      11869   \n",
       "4                                 7.47                      41097   \n",
       "\n",
       "   Total operating cost (cents per revenue ton-mile)  \\\n",
       "0                                              116.3   \n",
       "1                                               43.0   \n",
       "2                                              141.5   \n",
       "3                                               50.6   \n",
       "4                                               51.0   \n",
       "\n",
       "   Revenue tons per aircraft mile  Ton-mile load factor (proportion)  \\\n",
       "0                            0.96                              0.400   \n",
       "1                            3.98                              0.689   \n",
       "2                            0.79                              0.358   \n",
       "3                            2.57                              0.557   \n",
       "4                            2.68                              0.510   \n",
       "\n",
       "   Available capacity (tons per mile)  Total assets ($100,000s)  \\\n",
       "0                               2.400                     21.13   \n",
       "1                               5.776                   1436.53   \n",
       "2                               2.207                      6.65   \n",
       "3                               4.614                    160.30   \n",
       "4                               5.255                    195.02   \n",
       "\n",
       "   Investments and special funds ($100,000s)  Adjusted assets ($100,000s)  \n",
       "0                                       3.21                        17.92  \n",
       "1                                     165.22                      1271.31  \n",
       "2                                       0.01                         6.64  \n",
       "3                                       5.81                       154.49  \n",
       "4                                       6.06                       188.96  "
      ]
     },
     "execution_count": 23,
     "metadata": {},
     "output_type": "execute_result"
    }
   ],
   "source": [
    "# Read the contents of the file into a DataFrame\n",
    "df_airline = pd.read_csv(\"Assignment 2—Problem 1_ airline_costs.csv\", header=None)\n",
    "\n",
    "# create list of airline dataset column headers \n",
    "\n",
    "columns = [ 'Airline', 'Length of flight (miles)', 'Speed of plane (miles per hour)','Daily flight time per plane (hours)','Population served (1000s)', 'Total operating cost (cents per revenue ton-mile)',\n",
    "           'Revenue tons per aircraft mile','Ton-mile load factor (proportion)','Available capacity (tons per mile)', 'Total assets ($100,000s)', 'Investments and special funds ($100,000s)','Adjusted assets ($100,000s)']\n",
    "\n",
    "# Set column headers\n",
    "df_airline.columns = columns\n",
    "\n",
    "# Now df has column headers\n",
    "df_airline.head()"
   ]
  },
  {
   "cell_type": "code",
   "execution_count": 24,
   "id": "d4d944aa",
   "metadata": {},
   "outputs": [],
   "source": [
    "# Select relevant columns\n",
    "X = df_airline[['Length of flight (miles)', 'Daily flight time per plane (hours)']]\n",
    "y = df_airline['Population served (1000s)']\n",
    "\n",
    "# Feature names\n",
    "feature_names = X.columns.tolist()  # Get column names as list\n",
    "\n",
    "# Build the linear regression model\n",
    "model = LinearRegression()\n",
    "model.fit(X, y)\n",
    "\n",
    "# Coefficients\n",
    "intercept = model.intercept_\n",
    "coefficients = model.coef_"
   ]
  },
  {
   "cell_type": "code",
   "execution_count": null,
   "id": "2fb749d1",
   "metadata": {},
   "outputs": [],
   "source": [
    "Report your model (linear equation)."
   ]
  },
  {
   "cell_type": "code",
   "execution_count": 25,
   "id": "327c2f1a",
   "metadata": {},
   "outputs": [
    {
     "name": "stdout",
     "output_type": "stream",
     "text": [
      "Linear Regression Model:\n",
      "Population served (1000s) = -7792.07 + 183.30 * Length of flight (miles) + -213.33 * Daily flight time per plane (hours)\n"
     ]
    }
   ],
   "source": [
    "# Print the model equation\n",
    "print(\"Linear Regression Model:\")\n",
    "print(\"Population served (1000s) = {:.2f} + {:.2f} * Length of flight (miles) + {:.2f} * Daily flight time per plane (hours)\".format(intercept, coefficients[0], coefficients[1]))"
   ]
  },
  {
   "cell_type": "markdown",
   "id": "8ba4ed5d",
   "metadata": {},
   "source": [
    "What is your predicted value for the number of customers served for a flight that is 200 miles in length and has a daily flight time per plane of 7.2 hours? "
   ]
  },
  {
   "cell_type": "code",
   "execution_count": 26,
   "id": "ae1567dd",
   "metadata": {},
   "outputs": [
    {
     "name": "stdout",
     "output_type": "stream",
     "text": [
      "Predicted number of customers served: 27331.03461681924\n"
     ]
    },
    {
     "name": "stderr",
     "output_type": "stream",
     "text": [
      "/Users/wanjirungugi/anaconda3/lib/python3.11/site-packages/sklearn/base.py:493: UserWarning: X does not have valid feature names, but LinearRegression was fitted with feature names\n",
      "  warnings.warn(\n"
     ]
    }
   ],
   "source": [
    "# Predict for a flight that is 200 miles in length and has a daily flight time per plane of 7.2 hours\n",
    "length_of_flight = 200\n",
    "daily_flight_time = 7.2\n",
    "predicted_customers_served = model.predict([[length_of_flight, daily_flight_time]])[0]\n",
    "\n",
    "# Print the predicted value\n",
    "print(\"Predicted number of customers served:\", predicted_customers_served)"
   ]
  },
  {
   "cell_type": "markdown",
   "id": "994d3dac",
   "metadata": {},
   "source": [
    "Part B [3 Points]\n",
    "\n",
    "Next, build another regression model to predict the total assets of an airline from the customer served by the airline."
   ]
  },
  {
   "cell_type": "code",
   "execution_count": 20,
   "id": "da104649",
   "metadata": {},
   "outputs": [],
   "source": [
    "# Select relevant columns\n",
    "X1 = df_airline[['Population served (1000s)']]\n",
    "y1 = df_airline['Total assets ($100,000s)']\n",
    "\n",
    "# Build the linear regression model\n",
    "model = LinearRegression()\n",
    "model.fit(X1, y1)\n",
    "\n",
    "# Coefficients\n",
    "intercept2 = model.intercept_\n",
    "coefficients2 = model.coef_\n"
   ]
  },
  {
   "cell_type": "markdown",
   "id": "b79fcc25",
   "metadata": {},
   "source": [
    "Once again, report your model."
   ]
  },
  {
   "cell_type": "code",
   "execution_count": 21,
   "id": "a9ecec12",
   "metadata": {},
   "outputs": [
    {
     "name": "stdout",
     "output_type": "stream",
     "text": [
      "Linear Regression Model:\n",
      "Total assets ($100,000s) = -98.51 + 0.02 * Population served (1000s)\n"
     ]
    }
   ],
   "source": [
    "# Print the model equation\n",
    "print(\"Linear Regression Model:\")\n",
    "print(\"Total assets ($100,000s) = {:.2f} + {:.2f} * Population served (1000s)\".format(intercept2, coefficients2[0]))"
   ]
  },
  {
   "cell_type": "markdown",
   "id": "dabcc1c3",
   "metadata": {},
   "source": [
    "What is your prediction for total assets for an airline, given they serve 20,300,000 customers? "
   ]
  },
  {
   "cell_type": "code",
   "execution_count": 22,
   "id": "a76264d5",
   "metadata": {},
   "outputs": [
    {
     "name": "stdout",
     "output_type": "stream",
     "text": [
      "Predicted total assets for an airline serving 20,300,000 customers: $341.08\n"
     ]
    },
    {
     "name": "stderr",
     "output_type": "stream",
     "text": [
      "/Users/wanjirungugi/anaconda3/lib/python3.11/site-packages/sklearn/base.py:493: UserWarning: X does not have valid feature names, but LinearRegression was fitted with feature names\n",
      "  warnings.warn(\n"
     ]
    }
   ],
   "source": [
    "# Predict total assets for an airline that serves 20,300,000 customers\n",
    "customers_served = 20300\n",
    "predicted_total_assets = model.predict([[customers_served]])[0]\n",
    "\n",
    "# Print the predicted value\n",
    "print(\"Predicted total assets for an airline serving 20,300,000 customers: ${:.2f}\".format(predicted_total_assets))"
   ]
  },
  {
   "cell_type": "markdown",
   "id": "06f893e1",
   "metadata": {},
   "source": []
  },
  {
   "cell_type": "markdown",
   "id": "6962024f",
   "metadata": {},
   "source": [
    "PROBLEM 2 [4 POINTS]\n",
    "In this exercise, you are going to use the kangaroo’s nasal dimension data.Download kangaroo’s nasal dimension data.\n",
    "\n",
    "INSTRUCTIONS\n",
    "Use the gradient descent algorithm to predict the optimal intercept and gradient for this problem. Report your gradient values. [4 points]"
   ]
  },
  {
   "cell_type": "code",
   "execution_count": 36,
   "id": "a986a6b0",
   "metadata": {},
   "outputs": [
    {
     "name": "stdout",
     "output_type": "stream",
     "text": [
      "*** No CODEPAGE record, no encoding_override: will use 'iso-8859-1'\n"
     ]
    },
    {
     "data": {
      "text/html": [
       "<div>\n",
       "<style scoped>\n",
       "    .dataframe tbody tr th:only-of-type {\n",
       "        vertical-align: middle;\n",
       "    }\n",
       "\n",
       "    .dataframe tbody tr th {\n",
       "        vertical-align: top;\n",
       "    }\n",
       "\n",
       "    .dataframe thead th {\n",
       "        text-align: right;\n",
       "    }\n",
       "</style>\n",
       "<table border=\"1\" class=\"dataframe\">\n",
       "  <thead>\n",
       "    <tr style=\"text-align: right;\">\n",
       "      <th></th>\n",
       "      <th>X</th>\n",
       "      <th>Y</th>\n",
       "    </tr>\n",
       "  </thead>\n",
       "  <tbody>\n",
       "    <tr>\n",
       "      <th>0</th>\n",
       "      <td>609</td>\n",
       "      <td>241</td>\n",
       "    </tr>\n",
       "    <tr>\n",
       "      <th>1</th>\n",
       "      <td>629</td>\n",
       "      <td>222</td>\n",
       "    </tr>\n",
       "    <tr>\n",
       "      <th>2</th>\n",
       "      <td>620</td>\n",
       "      <td>233</td>\n",
       "    </tr>\n",
       "    <tr>\n",
       "      <th>3</th>\n",
       "      <td>564</td>\n",
       "      <td>207</td>\n",
       "    </tr>\n",
       "    <tr>\n",
       "      <th>4</th>\n",
       "      <td>645</td>\n",
       "      <td>247</td>\n",
       "    </tr>\n",
       "  </tbody>\n",
       "</table>\n",
       "</div>"
      ],
      "text/plain": [
       "     X    Y\n",
       "0  609  241\n",
       "1  629  222\n",
       "2  620  233\n",
       "3  564  207\n",
       "4  645  247"
      ]
     },
     "execution_count": 36,
     "metadata": {},
     "output_type": "execute_result"
    }
   ],
   "source": [
    "# Read Excel file with specified encoding\n",
    "df_kangaroo = pd.read_excel(\"Assignment 2—Problem 2_ kangaroo’s nasal dimension data.xls\", engine=\"xlrd\")\n",
    "df_kangaroo.head()"
   ]
  },
  {
   "cell_type": "code",
   "execution_count": 41,
   "id": "4573127d",
   "metadata": {},
   "outputs": [
    {
     "name": "stdout",
     "output_type": "stream",
     "text": [
      "Optimal Intercept: 23.235577743827818\n",
      "Optimal Gradient: 2.506984829577155\n"
     ]
    }
   ],
   "source": [
    "X = df_kangaroo['X']\n",
    "y = df_kangaroo['Y']\n",
    "\n",
    "# Data normalization function\n",
    "def normalize_data(X):\n",
    "    mean = np.mean(X)\n",
    "    std_dev = np.std(X)\n",
    "    return (X - mean) / std_dev\n",
    "\n",
    "# Normalize the data\n",
    "X_normalized = normalize_data(X)\n",
    "\n",
    "# Gradient Descent with normalized data\n",
    "optimal_intercept, optimal_gradient = gradient_descent(X_normalized, y)\n",
    "\n",
    "# Report gradient values\n",
    "print(\"Optimal Intercept:\", optimal_intercept)\n",
    "print(\"Optimal Gradient:\", optimal_gradient)\n"
   ]
  },
  {
   "cell_type": "markdown",
   "id": "884eaa3a",
   "metadata": {},
   "source": [
    "The optimal intercept and gradient (or slope) values obtained from the gradient descent algorithm represent the parameters of the linear equation that best fits the given data."
   ]
  },
  {
   "cell_type": "markdown",
   "id": "92d265ce",
   "metadata": {},
   "source": [
    "Optimal Intercept value indicates the point where the regression line intersects the y-axis when all independent variables (X) are zero. In this case, the value of approximately 23.24 suggests that when the nasal dimension (X) is zero, the estimated value of Y (or the dependent variable) is around 23.24.\n",
    "\n",
    "Optimal Gradient (Slope)represents the rate of change of the dependent variable (Y) with respect to the independent variable (X). Here, the gradient value of approximately 2.51 implies that for each unit increase in the nasal dimension (X), the estimated value of Y increases by approximately 2.51 units."
   ]
  },
  {
   "cell_type": "markdown",
   "id": "b98a268b",
   "metadata": {},
   "source": [
    "The nasal dimension (X) has a positive linear relationship with the dependent variable (Y), with an increase of approximately 2.51 units in Y for each unit increase in X, and when X is zero, the estimated value of Y is approximately 23.24."
   ]
  }
 ],
 "metadata": {
  "kernelspec": {
   "display_name": "Python 3 (ipykernel)",
   "language": "python",
   "name": "python3"
  },
  "language_info": {
   "codemirror_mode": {
    "name": "ipython",
    "version": 3
   },
   "file_extension": ".py",
   "mimetype": "text/x-python",
   "name": "python",
   "nbconvert_exporter": "python",
   "pygments_lexer": "ipython3",
   "version": "3.11.5"
  }
 },
 "nbformat": 4,
 "nbformat_minor": 5
}

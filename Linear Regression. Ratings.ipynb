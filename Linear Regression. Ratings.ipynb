{
 "cells": [
  {
   "cell_type": "code",
   "execution_count": 4,
   "id": "ce9824c6",
   "metadata": {},
   "outputs": [],
   "source": [
    "# Importing necessary libraries\n",
    "import pandas as pd\n",
    "from sklearn.linear_model import LinearRegression"
   ]
  },
  {
   "cell_type": "markdown",
   "id": "db83be65",
   "metadata": {},
   "source": [
    "Use a linear regression model to predict how the predictor attributes impact the overall rating of the restaurant.\n",
    "First, express the linear regression in mathematical form."
   ]
  },
  {
   "cell_type": "code",
   "execution_count": 6,
   "id": "58243c5d",
   "metadata": {},
   "outputs": [],
   "source": [
    "# Read the contents of the file into a DataFrame\n",
    "df_restaurant = pd.read_excel(\"LAB 2.10.3_ ratings.xlsx\")"
   ]
  },
  {
   "cell_type": "code",
   "execution_count": 7,
   "id": "b6614170",
   "metadata": {},
   "outputs": [
    {
     "name": "stdout",
     "output_type": "stream",
     "text": [
      "    restaurant  food  ambience  service  rating\n",
      "0            1    85        82       89      78\n",
      "1            2    80        90       80      85\n",
      "2            3    83        86       83      85\n",
      "3            4    70        96       75      72\n",
      "4            5    68        80       78      75\n",
      "5            6    65        70       56      54\n",
      "6            7    64        68       61      62\n",
      "7            8    72        95       72      73\n",
      "8            9    69        70       78      70\n",
      "9           10    75        80       75      77\n",
      "10          11    75        70       75      74\n",
      "11          12    72        90       78      76\n",
      "12          13    81        72       78      80\n",
      "13          14    71        91       71      71\n",
      "14          15    67        86       78      64\n"
     ]
    }
   ],
   "source": [
    "print(df_restaurant)"
   ]
  },
  {
   "cell_type": "markdown",
   "id": "4f2f385d",
   "metadata": {},
   "source": [
    "We can express the linear regression model for predicting the overall rating of the restaurant as follows:\n",
    "  \n",
    "Rating = β₀ + β₁ × Food + β2 * Ambience + β3 * service \n",
    "Where:\n",
    "Rating represents the overall rating of the restaurant,\n",
    "\n",
    "Food, Ambience, and Service represent the predictor attributes,\n",
    "β0 represents the intercept,\n",
    "β1,β2, and β3 represent the coefficients for food, ambience, and service respectively."
   ]
  },
  {
   "cell_type": "markdown",
   "id": "c01f7f31",
   "metadata": {},
   "source": [
    "Then, try solving it by hand as we did in the live session. Here, you will have four parameters (the constant, and the three attributes/predictors), with one outcome. You do not have to actually solve this with all possible values for these parameters. Rather, show a couple of possible sets of values for the parameters with the outcome value calculated."
   ]
  },
  {
   "cell_type": "markdown",
   "id": "f55e03de",
   "metadata": {},
   "source": [
    "Solving by Hand:\n",
    "    \n",
    "Considering two possible sets of values for the parameters:\n",
    "\n",
    "Set 1:\n",
    "\n",
    "β0 =50\n",
    "\n",
    "β1 = 0.5\n",
    "\n",
    "β2 = 0.3\n",
    "\n",
    "β3 =0.4\n",
    "\n",
    "Using these values,  calculate the predicted overall rating for a specific restaurant.\n",
    "\n",
    "Restaurant 1:\n",
    "Food = 85\n",
    "Ambience = 82\n",
    "Service = 89\n",
    "\n",
    "Rating 1=50+0.5×85+0.3×82+0.4×89\n",
    "Rating1 =50+42.5+24.6+35.6=152.7\n",
    "\n",
    "Set 2:\n",
    "\n",
    "β0 = 60\n",
    "β1 = 0.6\n",
    "β2 = 0.2\n",
    "β3 =0.3\n",
    "\n",
    "Using these values,calculate the predicted overall rating for different restaurant.\n",
    "\n",
    "Restaurant 2:\n",
    "\n",
    "Food = 68\n",
    "Ambience = 80\n",
    "Service = 78\n",
    "\n",
    "Rating5 =60 + 0.6 × 68 + 0.2 × 80 + 0.3× 78\n",
    "Rating5 =60 +40.8 + 16 + 23.4 = 140.2"
   ]
  },
  {
   "cell_type": "markdown",
   "id": "c2dc63cd",
   "metadata": {},
   "source": [
    "Finally, use your favorite programming tool to find the linear regression model and report it in appropriate terms (do not just dump the output from Python)."
   ]
  },
  {
   "cell_type": "code",
   "execution_count": 11,
   "id": "9389f5d0",
   "metadata": {},
   "outputs": [
    {
     "name": "stdout",
     "output_type": "stream",
     "text": [
      "Intercept: -15.87127114455744\n",
      "Coefficients: [0.7337757  0.13376097 0.32398064]\n"
     ]
    }
   ],
   "source": [
    "# Convert data to DataFrame\n",
    "#df = pd.DataFrame(df_restaurant)\n",
    "#print(pd)\n",
    "# Separate features (food, ambience, service) and target (rating)\n",
    "X = df_restaurant[['food', 'ambience', 'service']]\n",
    "y = df_restaurant['rating']\n",
    "\n",
    "# Create a linear regression model\n",
    "model = LinearRegression()\n",
    "\n",
    "# Fit the model\n",
    "model.fit(X, y)\n",
    "\n",
    "# Coefficients\n",
    "intercept = model.intercept_\n",
    "coefficients = model.coef_\n",
    "\n",
    "# Print coefficients\n",
    "print(\"Intercept:\", intercept)\n",
    "print(\"Coefficients:\", coefficients)"
   ]
  },
  {
   "cell_type": "code",
   "execution_count": null,
   "id": "79d17af1",
   "metadata": {},
   "outputs": [],
   "source": []
  }
 ],
 "metadata": {
  "kernelspec": {
   "display_name": "Python 3 (ipykernel)",
   "language": "python",
   "name": "python3"
  },
  "language_info": {
   "codemirror_mode": {
    "name": "ipython",
    "version": 3
   },
   "file_extension": ".py",
   "mimetype": "text/x-python",
   "name": "python",
   "nbconvert_exporter": "python",
   "pygments_lexer": "ipython3",
   "version": "3.11.5"
  }
 },
 "nbformat": 4,
 "nbformat_minor": 5
}

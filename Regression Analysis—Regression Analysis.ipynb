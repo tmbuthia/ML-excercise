{
 "cells": [
  {
   "cell_type": "code",
   "execution_count": 10,
   "id": "223aed40",
   "metadata": {},
   "outputs": [],
   "source": [
    "import numpy as np\n",
    "import pandas as pd\n",
    "from sklearn.linear_model import LinearRegression"
   ]
  },
  {
   "cell_type": "markdown",
   "id": "14c62516",
   "metadata": {},
   "source": [
    "Obtain the Container Crane Controller Data Set. Download Container Crane Controller Data Set. A container crane is used to transport containers from one place to another. The difficulty of this task lies in the fact that the bridge crane is connected to the container by cables causing an opening angle when the container is being transported. Interfering with the operation at high speeds due to oscillation that occurs at the end-point could cause accidents."
   ]
  },
  {
   "cell_type": "code",
   "execution_count": 6,
   "id": "cebcec2a",
   "metadata": {},
   "outputs": [],
   "source": [
    "# Read the contents of the file into a DataFrame\n",
    "df_crane_controler = pd.read_csv(\"LAB 2.10.2_ Container_Crane_Controller_Data_Set.csv\", sep = ';',decimal=',')"
   ]
  },
  {
   "cell_type": "code",
   "execution_count": 8,
   "id": "5d8dfb59",
   "metadata": {},
   "outputs": [
    {
     "name": "stdout",
     "output_type": "stream",
     "text": [
      "    Speed  Angle  Power\n",
      "0       1     -5    0.3\n",
      "1       2      5    0.3\n",
      "2       3     -2    0.5\n",
      "3       1      2    0.5\n",
      "4       2      0    0.7\n",
      "5       6     -5    0.5\n",
      "6       7      5    0.5\n",
      "7       6     -2    0.3\n",
      "8       7      2    0.3\n",
      "9       6      0    0.7\n",
      "10      8     -5    0.5\n",
      "11      9      5    0.5\n",
      "12     10     -2    0.3\n",
      "13      8      2    0.3\n",
      "14      9      0    0.5\n"
     ]
    }
   ],
   "source": [
    "print(df_crane_controler)"
   ]
  },
  {
   "cell_type": "markdown",
   "id": "4719a030",
   "metadata": {},
   "source": [
    "Use regression analysis to predict the power from speed and angle. This essentially means deriving a linear regression equation."
   ]
  },
  {
   "cell_type": "code",
   "execution_count": 11,
   "id": "af645b0d",
   "metadata": {},
   "outputs": [
    {
     "name": "stdout",
     "output_type": "stream",
     "text": [
      "Intercept: 0.47509926899952415\n",
      "Coefficients: [-0.00501752  0.00025953]\n"
     ]
    }
   ],
   "source": [
    "# Convert data to DataFrame\n",
    "df = pd.DataFrame(df_crane_controler)\n",
    "\n",
    "# Separate features (speed and angle) and target (power)\n",
    "X = df[['Speed', 'Angle']]\n",
    "y = df['Power']\n",
    "\n",
    "# Create a linear regression model\n",
    "model = LinearRegression()\n",
    "\n",
    "# Fit the model\n",
    "model.fit(X, y)\n",
    "\n",
    "# Coefficients\n",
    "intercept = model.intercept_\n",
    "coefficients = model.coef_\n",
    "\n",
    "# Print coefficients\n",
    "print(\"Intercept:\", intercept)\n",
    "print(\"Coefficients:\", coefficients)"
   ]
  },
  {
   "cell_type": "markdown",
   "id": "c18b0620",
   "metadata": {},
   "source": [
    "Now do the same using the gradient descent approach."
   ]
  },
  {
   "cell_type": "code",
   "execution_count": 12,
   "id": "20cdf317",
   "metadata": {},
   "outputs": [
    {
     "name": "stdout",
     "output_type": "stream",
     "text": [
      "Intercept: 0.419266684354252\n",
      "Coefficients: [ 0.00274533 -0.00014948]\n"
     ]
    }
   ],
   "source": [
    "# Crane controller dataset\n",
    "X = np.array([[1, -5],\n",
    "              [2, 5],\n",
    "              [3, -2],\n",
    "              [1, 2],\n",
    "              [2, 0],\n",
    "              [6, -5],\n",
    "              [7, 5],\n",
    "              [6, -2],\n",
    "              [7, 2],\n",
    "              [6, 0],\n",
    "              [8, -5],\n",
    "              [9, 5],\n",
    "              [10, -2],\n",
    "              [8, 2],\n",
    "              [9, 0]])\n",
    "\n",
    "y = np.array([0.3, 0.3, 0.5, 0.5, 0.7, 0.5, 0.5, 0.3, 0.3, 0.7, 0.5, 0.5, 0.3, 0.3, 0.5])\n",
    "\n",
    "# Add intercept term (one column of ones)\n",
    "X_with_intercept = np.c_[np.ones(X.shape[0]), X]\n",
    "\n",
    "# Initialize parameters (coefficients)\n",
    "theta = np.zeros(X_with_intercept.shape[1])  # Zeroes for all coefficients (including intercept)\n",
    "\n",
    "# Gradient descent parameters\n",
    "alpha = 0.01\n",
    "iterations = 1000\n",
    "\n",
    "# Gradient descent loop\n",
    "for _ in range(iterations):  # Use underscore for unused loop variable\n",
    "    # Calculate predictions\n",
    "    predictions = X_with_intercept.dot(theta)\n",
    "\n",
    "    # Calculate errors\n",
    "    errors = predictions - y\n",
    "\n",
    "    # Calculate gradients (vectorized)\n",
    "    gradients = X_with_intercept.T.dot(errors) / len(y)\n",
    "\n",
    "    # Update parameters\n",
    "    theta -= alpha * gradients\n",
    "\n",
    "# Extract coefficients\n",
    "intercept_gd = theta[0]\n",
    "coefficients_gd = theta[1:]\n",
    "\n",
    "# Print coefficients\n",
    "print(\"Intercept:\", intercept_gd)\n",
    "print(\"Coefficients:\", coefficients_gd)\n"
   ]
  },
  {
   "cell_type": "code",
   "execution_count": null,
   "id": "8277a126",
   "metadata": {},
   "outputs": [],
   "source": []
  }
 ],
 "metadata": {
  "kernelspec": {
   "display_name": "Python 3 (ipykernel)",
   "language": "python",
   "name": "python3"
  },
  "language_info": {
   "codemirror_mode": {
    "name": "ipython",
    "version": 3
   },
   "file_extension": ".py",
   "mimetype": "text/x-python",
   "name": "python",
   "nbconvert_exporter": "python",
   "pygments_lexer": "ipython3",
   "version": "3.11.5"
  }
 },
 "nbformat": 4,
 "nbformat_minor": 5
}

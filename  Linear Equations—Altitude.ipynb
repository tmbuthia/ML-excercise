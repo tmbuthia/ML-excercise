{
 "cells": [
  {
   "cell_type": "code",
   "execution_count": 1,
   "id": "2ffd4854",
   "metadata": {},
   "outputs": [],
   "source": [
    "import numpy as np\n",
    "import pandas as pd"
   ]
  },
  {
   "cell_type": "markdown",
   "id": "3b87ecc4",
   "metadata": {},
   "source": [
    "Obtain the attitudes dataset Download attitudes dataset. Here, the first variable, attitude, represents the amount of positive attitude of the students who have taken an examination and the score represents the marks scored by the participants in the examination."
   ]
  },
  {
   "cell_type": "code",
   "execution_count": 3,
   "id": "636fec77",
   "metadata": {},
   "outputs": [],
   "source": [
    "# Read the contents of the file into a DataFrame\n",
    "df_altitude = pd.read_csv(\"LAB 2.10.1_ attitude.csv\")"
   ]
  },
  {
   "cell_type": "code",
   "execution_count": 4,
   "id": "71e61579",
   "metadata": {},
   "outputs": [
    {
     "name": "stdout",
     "output_type": "stream",
     "text": [
      "    #  Attitude  Score\n",
      "0   1        65    129\n",
      "1   2        67    126\n",
      "2   3        68    143\n",
      "3   4        70    156\n",
      "4   5        71    161\n",
      "5   6        72    158\n",
      "6   7        72    168\n",
      "7   8        73    166\n",
      "8   9        73    182\n",
      "9  10        75    201\n"
     ]
    }
   ],
   "source": [
    "print(df_altitude)"
   ]
  },
  {
   "cell_type": "markdown",
   "id": "9a107fe2",
   "metadata": {},
   "source": [
    "Express the relationship between the predictor (attitude) and the outcome (score) variables using a linear equation."
   ]
  },
  {
   "cell_type": "code",
   "execution_count": null,
   "id": "60e5122c",
   "metadata": {},
   "outputs": [],
   "source": [
    "score= β₀ + β₁ × attitude\n",
    "\n",
    "Where:\n",
    "\n",
    "score represents the predicted score,\n",
    "\n",
    "attitude represents the predictor variable (attitude),\n",
    "\n",
    "β₀ represents the intercept\n",
    "\n",
    "β₁ represents the slope."
   ]
  },
  {
   "cell_type": "code",
   "execution_count": null,
   "id": "0ce306e4",
   "metadata": {},
   "outputs": [],
   "source": [
    "Using whatever means necessary (maybe first by hand and then using a tool), solve the equation."
   ]
  },
  {
   "cell_type": "code",
   "execution_count": 6,
   "id": "d4100e78",
   "metadata": {},
   "outputs": [
    {
     "name": "stdout",
     "output_type": "stream",
     "text": [
      "Intercept (beta0): -330.46064814814815\n",
      "Slope (beta1): 6.932870370370371\n"
     ]
    }
   ],
   "source": [
    "# Importing  libraries\n",
    "import numpy as np\n",
    "from sklearn.linear_model import LinearRegression\n",
    "\n",
    "# Attitude and score data\n",
    "attitude = np.array([65, 67, 68, 70, 71, 72, 72, 73, 73, 75]).reshape(-1, 1)\n",
    "score = np.array([129, 126, 143, 156, 161, 158, 168, 166, 182, 201])\n",
    "\n",
    "# Create a linear regression model\n",
    "model = LinearRegression()\n",
    "\n",
    "# Fit the model\n",
    "model.fit(attitude, score)\n",
    "\n",
    "# Coefficients\n",
    "beta0 = model.intercept_\n",
    "beta1 = model.coef_[0]\n",
    "\n",
    "# Print coefficients\n",
    "print(\"Intercept (beta0):\", beta0)\n",
    "print(\"Slope (beta1):\", beta1)"
   ]
  },
  {
   "cell_type": "markdown",
   "id": "ad47c97f",
   "metadata": {},
   "source": [
    "Find your predictions for a score for the following values of attitude: 60, 63, 78, 80"
   ]
  },
  {
   "cell_type": "code",
   "execution_count": 8,
   "id": "dd6d845c",
   "metadata": {},
   "outputs": [
    {
     "name": "stdout",
     "output_type": "stream",
     "text": [
      "\n",
      "Predicted scores for new attitudes:\n",
      "Attitude: 60 Predicted Score: 85.51157407407413\n",
      "Attitude: 63 Predicted Score: 106.31018518518522\n",
      "Attitude: 78 Predicted Score: 210.30324074074076\n",
      "Attitude: 80 Predicted Score: 224.16898148148152\n"
     ]
    }
   ],
   "source": [
    "# Predict scores for new values of attitude\n",
    "new_attitudes = np.array([60, 63, 78, 80]).reshape(-1, 1)\n",
    "predicted_scores = model.predict(new_attitudes)\n",
    "\n",
    "# Print predicted scores\n",
    "print(\"\\nPredicted scores for new attitudes:\")\n",
    "for attitude, score in zip(new_attitudes.flatten(), predicted_scores):\n",
    " print(\"Attitude:\", attitude, \"Predicted Score:\", score)"
   ]
  },
  {
   "cell_type": "code",
   "execution_count": null,
   "id": "e1b3a023",
   "metadata": {},
   "outputs": [],
   "source": []
  }
 ],
 "metadata": {
  "kernelspec": {
   "display_name": "Python 3 (ipykernel)",
   "language": "python",
   "name": "python3"
  },
  "language_info": {
   "codemirror_mode": {
    "name": "ipython",
    "version": 3
   },
   "file_extension": ".py",
   "mimetype": "text/x-python",
   "name": "python",
   "nbconvert_exporter": "python",
   "pygments_lexer": "ipython3",
   "version": "3.11.5"
  }
 },
 "nbformat": 4,
 "nbformat_minor": 5
}
